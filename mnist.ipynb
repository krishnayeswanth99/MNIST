{
 "cells": [
  {
   "cell_type": "code",
   "execution_count": 0,
   "metadata": {
    "colab": {},
    "colab_type": "code",
    "id": "8FkVBs2-zagf"
   },
   "outputs": [],
   "source": [
    "import numpy as np\n",
    "from keras import layers\n",
    "from keras.layers import Input, Dense, Activation, ZeroPadding2D, BatchNormalization, Flatten, Conv2D\n",
    "from keras.layers import AveragePooling2D, MaxPooling2D, Dropout, GlobalMaxPooling2D, GlobalAveragePooling2D\n",
    "from keras.models import Model,Sequential\n",
    "from keras.utils import to_categorical\n",
    "import keras.backend as K\n",
    "import tensorflow as tf"
   ]
  },
  {
   "cell_type": "code",
   "execution_count": 0,
   "metadata": {
    "colab": {
     "base_uri": "https://localhost:8080/",
     "height": 53
    },
    "colab_type": "code",
    "id": "X8PWWjMJu45C",
    "outputId": "86062f33-2b21-4b7b-e065-903a784c63f7"
   },
   "outputs": [
    {
     "name": "stdout",
     "output_type": "stream",
     "text": [
      "\u001b[?25l\r",
      "\u001b[K    1% |▎                               | 10kB 17.6MB/s eta 0:00:01\r",
      "\u001b[K    2% |▋                               | 20kB 1.8MB/s eta 0:00:01\r",
      "\u001b[K    3% |█                               | 30kB 2.7MB/s eta 0:00:01\r",
      "\u001b[K    4% |█▎                              | 40kB 1.7MB/s eta 0:00:01\r",
      "\u001b[K    5% |█▋                              | 51kB 2.1MB/s eta 0:00:01\r",
      "\u001b[K    6% |██                              | 61kB 2.5MB/s eta 0:00:01\r",
      "\u001b[K    7% |██▎                             | 71kB 2.9MB/s eta 0:00:01\r",
      "\u001b[K    8% |██▋                             | 81kB 3.3MB/s eta 0:00:01\r",
      "\u001b[K    9% |███                             | 92kB 3.7MB/s eta 0:00:01\r",
      "\u001b[K    10% |███▎                            | 102kB 2.8MB/s eta 0:00:01\r",
      "\u001b[K    11% |███▋                            | 112kB 2.8MB/s eta 0:00:01\r",
      "\u001b[K    12% |████                            | 122kB 4.0MB/s eta 0:00:01\r",
      "\u001b[K    13% |████▎                           | 133kB 4.0MB/s eta 0:00:01\r",
      "\u001b[K    14% |████▋                           | 143kB 7.5MB/s eta 0:00:01\r",
      "\u001b[K    15% |█████                           | 153kB 7.6MB/s eta 0:00:01\r",
      "\u001b[K    16% |█████▎                          | 163kB 7.5MB/s eta 0:00:01\r",
      "\u001b[K    17% |█████▋                          | 174kB 7.5MB/s eta 0:00:01\r",
      "\u001b[K    18% |██████                          | 184kB 7.6MB/s eta 0:00:01\r",
      "\u001b[K    19% |██████▎                         | 194kB 7.6MB/s eta 0:00:01\r",
      "\u001b[K    20% |██████▋                         | 204kB 41.7MB/s eta 0:00:01\r",
      "\u001b[K    21% |███████                         | 215kB 8.3MB/s eta 0:00:01\r",
      "\u001b[K    22% |███████▎                        | 225kB 8.3MB/s eta 0:00:01\r",
      "\u001b[K    23% |███████▋                        | 235kB 8.3MB/s eta 0:00:01\r",
      "\u001b[K    24% |████████                        | 245kB 8.3MB/s eta 0:00:01\r",
      "\u001b[K    25% |████████▎                       | 256kB 8.4MB/s eta 0:00:01\r",
      "\u001b[K    26% |████████▋                       | 266kB 8.3MB/s eta 0:00:01\r",
      "\u001b[K    27% |█████████                       | 276kB 8.3MB/s eta 0:00:01\r",
      "\u001b[K    29% |█████████▎                      | 286kB 8.4MB/s eta 0:00:01\r",
      "\u001b[K    30% |█████████▋                      | 296kB 8.4MB/s eta 0:00:01\r",
      "\u001b[K    31% |██████████                      | 307kB 8.6MB/s eta 0:00:01\r",
      "\u001b[K    32% |██████████▎                     | 317kB 51.4MB/s eta 0:00:01\r",
      "\u001b[K    33% |██████████▋                     | 327kB 52.2MB/s eta 0:00:01\r",
      "\u001b[K    34% |███████████                     | 337kB 53.8MB/s eta 0:00:01\r",
      "\u001b[K    35% |███████████▎                    | 348kB 50.4MB/s eta 0:00:01\r",
      "\u001b[K    36% |███████████▋                    | 358kB 49.9MB/s eta 0:00:01\r",
      "\u001b[K    37% |████████████                    | 368kB 53.7MB/s eta 0:00:01\r",
      "\u001b[K    38% |████████████▎                   | 378kB 52.9MB/s eta 0:00:01\r",
      "\u001b[K    39% |████████████▋                   | 389kB 50.7MB/s eta 0:00:01\r",
      "\u001b[K    40% |█████████████                   | 399kB 9.5MB/s eta 0:00:01\r",
      "\u001b[K    41% |█████████████▎                  | 409kB 9.4MB/s eta 0:00:01\r",
      "\u001b[K    42% |█████████████▋                  | 419kB 9.4MB/s eta 0:00:01\r",
      "\u001b[K    43% |██████████████                  | 430kB 9.4MB/s eta 0:00:01\r",
      "\u001b[K    44% |██████████████▎                 | 440kB 9.5MB/s eta 0:00:01\r",
      "\u001b[K    45% |██████████████▋                 | 450kB 9.5MB/s eta 0:00:01\r",
      "\u001b[K    46% |███████████████                 | 460kB 9.5MB/s eta 0:00:01\r",
      "\u001b[K    47% |███████████████▎                | 471kB 9.5MB/s eta 0:00:01\r",
      "\u001b[K    48% |███████████████▋                | 481kB 9.5MB/s eta 0:00:01\r",
      "\u001b[K    49% |████████████████                | 491kB 9.5MB/s eta 0:00:01\r",
      "\u001b[K    50% |████████████████▎               | 501kB 50.1MB/s eta 0:00:01\r",
      "\u001b[K    51% |████████████████▋               | 512kB 49.7MB/s eta 0:00:01\r",
      "\u001b[K    52% |█████████████████               | 522kB 49.6MB/s eta 0:00:01\r",
      "\u001b[K    53% |█████████████████▎              | 532kB 50.3MB/s eta 0:00:01\r",
      "\u001b[K    54% |█████████████████▋              | 542kB 9.0MB/s eta 0:00:01\r",
      "\u001b[K    55% |██████████████████              | 552kB 9.1MB/s eta 0:00:01\r",
      "\u001b[K    57% |██████████████████▎             | 563kB 9.0MB/s eta 0:00:01\r",
      "\u001b[K    58% |██████████████████▋             | 573kB 9.0MB/s eta 0:00:01\r",
      "\u001b[K    59% |███████████████████             | 583kB 8.9MB/s eta 0:00:01\r",
      "\u001b[K    60% |███████████████████▎            | 593kB 9.0MB/s eta 0:00:01\r",
      "\u001b[K    61% |███████████████████▋            | 604kB 8.9MB/s eta 0:00:01\r",
      "\u001b[K    62% |████████████████████            | 614kB 9.0MB/s eta 0:00:01\r",
      "\u001b[K    63% |████████████████████▎           | 624kB 9.0MB/s eta 0:00:01\r",
      "\u001b[K    64% |████████████████████▋           | 634kB 9.0MB/s eta 0:00:01\r",
      "\u001b[K    65% |█████████████████████           | 645kB 47.9MB/s eta 0:00:01\r",
      "\u001b[K    66% |█████████████████████▎          | 655kB 49.7MB/s eta 0:00:01\r",
      "\u001b[K    67% |█████████████████████▋          | 665kB 40.6MB/s eta 0:00:01\r",
      "\u001b[K    68% |██████████████████████          | 675kB 41.3MB/s eta 0:00:01\r",
      "\u001b[K    69% |██████████████████████▎         | 686kB 42.7MB/s eta 0:00:01\r",
      "\u001b[K    70% |██████████████████████▋         | 696kB 43.5MB/s eta 0:00:01\r",
      "\u001b[K    71% |███████████████████████         | 706kB 44.2MB/s eta 0:00:01\r",
      "\u001b[K    72% |███████████████████████▎        | 716kB 44.1MB/s eta 0:00:01\r",
      "\u001b[K    73% |███████████████████████▋        | 727kB 46.0MB/s eta 0:00:01\r",
      "\u001b[K    74% |████████████████████████        | 737kB 45.1MB/s eta 0:00:01\r",
      "\u001b[K    75% |████████████████████████▎       | 747kB 45.8MB/s eta 0:00:01\r",
      "\u001b[K    76% |████████████████████████▋       | 757kB 45.8MB/s eta 0:00:01\r",
      "\u001b[K    77% |████████████████████████▉       | 768kB 63.7MB/s eta 0:00:01\r",
      "\u001b[K    78% |█████████████████████████▏      | 778kB 62.0MB/s eta 0:00:01\r",
      "\u001b[K    79% |█████████████████████████▌      | 788kB 60.9MB/s eta 0:00:01\r",
      "\u001b[K    80% |█████████████████████████▉      | 798kB 58.7MB/s eta 0:00:01\r",
      "\u001b[K    81% |██████████████████████████▏     | 808kB 57.7MB/s eta 0:00:01\r",
      "\u001b[K    82% |██████████████████████████▌     | 819kB 57.8MB/s eta 0:00:01\r",
      "\u001b[K    83% |██████████████████████████▉     | 829kB 58.1MB/s eta 0:00:01\r",
      "\u001b[K    85% |███████████████████████████▏    | 839kB 59.8MB/s eta 0:00:01\r",
      "\u001b[K    86% |███████████████████████████▌    | 849kB 61.2MB/s eta 0:00:01\r",
      "\u001b[K    87% |███████████████████████████▉    | 860kB 55.4MB/s eta 0:00:01\r",
      "\u001b[K    88% |████████████████████████████▏   | 870kB 54.2MB/s eta 0:00:01\r",
      "\u001b[K    89% |████████████████████████████▌   | 880kB 56.2MB/s eta 0:00:01\r",
      "\u001b[K    90% |████████████████████████████▉   | 890kB 56.2MB/s eta 0:00:01\r",
      "\u001b[K    91% |█████████████████████████████▏  | 901kB 57.2MB/s eta 0:00:01\r",
      "\u001b[K    92% |█████████████████████████████▌  | 911kB 55.1MB/s eta 0:00:01\r",
      "\u001b[K    93% |█████████████████████████████▉  | 921kB 53.6MB/s eta 0:00:01\r",
      "\u001b[K    94% |██████████████████████████████▏ | 931kB 52.6MB/s eta 0:00:01\r",
      "\u001b[K    95% |██████████████████████████████▌ | 942kB 50.8MB/s eta 0:00:01\r",
      "\u001b[K    96% |██████████████████████████████▉ | 952kB 50.5MB/s eta 0:00:01\r",
      "\u001b[K    97% |███████████████████████████████▏| 962kB 56.4MB/s eta 0:00:01\r",
      "\u001b[K    98% |███████████████████████████████▌| 972kB 55.2MB/s eta 0:00:01\r",
      "\u001b[K    99% |███████████████████████████████▉| 983kB 18.4MB/s eta 0:00:01\r",
      "\u001b[K    100% |████████████████████████████████| 993kB 11.6MB/s \n",
      "\u001b[?25h  Building wheel for PyDrive (setup.py) ... \u001b[?25ldone\n",
      "\u001b[?25h"
     ]
    }
   ],
   "source": [
    "!pip install -U -q PyDrive\n",
    "\n",
    "from pydrive.auth import GoogleAuth\n",
    "from pydrive.drive import GoogleDrive\n",
    "from google.colab import auth\n",
    "from oauth2client.client import GoogleCredentials\n",
    "\n",
    "# 1. Authenticate and create the PyDrive client.\n",
    "auth.authenticate_user()\n",
    "gauth = GoogleAuth()\n",
    "gauth.credentials = GoogleCredentials.get_application_default()\n",
    "drive = GoogleDrive(gauth)"
   ]
  },
  {
   "cell_type": "code",
   "execution_count": 0,
   "metadata": {
    "colab": {},
    "colab_type": "code",
    "id": "OUCLRsSEvM1E"
   },
   "outputs": [],
   "source": [
    "downloaded = drive.CreateFile({'id': '1TVtLlYHc8urOoFHfaZTkBN6ATEqIDUUy'})\n",
    "downloaded.GetContentFile('mnist.zip')"
   ]
  },
  {
   "cell_type": "code",
   "execution_count": 0,
   "metadata": {
    "colab": {},
    "colab_type": "code",
    "id": "5GMf1ERj7-uT"
   },
   "outputs": [],
   "source": [
    "# !unzip mnist.zip"
   ]
  },
  {
   "cell_type": "code",
   "execution_count": 0,
   "metadata": {
    "colab": {},
    "colab_type": "code",
    "id": "7Kf32w2W8PPg"
   },
   "outputs": [],
   "source": [
    "!mkdir sam\n",
    "!mv ./testSample ./sam/testSample\n",
    "!mv ./trainingSample ./sam/trainingSample\n",
    "!mv ./testSet.tar.gz ./sam/testSet.tar.gz\n",
    "!mv ./trainingSet.tar.gz ./sam/trainingSet.tar.gz"
   ]
  },
  {
   "cell_type": "code",
   "execution_count": 0,
   "metadata": {
    "colab": {
     "base_uri": "https://localhost:8080/",
     "height": 55
    },
    "colab_type": "code",
    "id": "OVuvfnPO9WrX",
    "outputId": "58554334-bc16-49fc-c227-e60a3923f41d"
   },
   "outputs": [
    {
     "name": "stdout",
     "output_type": "stream",
     "text": [
      "['trainingSet.tar.gz', 'testSample', 'testSet.tar.gz', 'trainingSample', 'testSet', 'trainingSet']\n"
     ]
    }
   ],
   "source": [
    "import os\n",
    "import cv2\n",
    "# os.chdir('./sam/')\n",
    "# print(os.listdir('./'))\n",
    "# !tar -xvzf testSet.tar.gz\n",
    "# !tar -xvzf trainingSet.tar.gz\n",
    "print(os.listdir('.'))"
   ]
  },
  {
   "cell_type": "code",
   "execution_count": 0,
   "metadata": {
    "colab": {},
    "colab_type": "code",
    "id": "tWiDzIKRufow"
   },
   "outputs": [],
   "source": [
    "# print(os.getcwd())\n",
    "X_train , Y_train = [], []\n",
    "# os.chdir('./trainingSet')\n",
    "for i in os.listdir('.'):\n",
    "  for root,dirs,files in os.walk(i):\n",
    "    for f in files:\n",
    "      j = i + \"/\" + f\n",
    "      X_train += [np.array(cv2.imread(j,0))]\n",
    "      Y_train += i"
   ]
  },
  {
   "cell_type": "code",
   "execution_count": 0,
   "metadata": {
    "colab": {
     "base_uri": "https://localhost:8080/",
     "height": 53
    },
    "colab_type": "code",
    "id": "bmun42kGA784",
    "outputId": "0f75b502-82c0-42a9-fce8-02b429c9df8f"
   },
   "outputs": [
    {
     "name": "stdout",
     "output_type": "stream",
     "text": [
      "42000\n"
     ]
    },
    {
     "data": {
      "text/plain": [
       "(28, 28)"
      ]
     },
     "execution_count": 61,
     "metadata": {
      "tags": []
     },
     "output_type": "execute_result"
    }
   ],
   "source": [
    "print(len(X_train))\n",
    "X_train[0].shape"
   ]
  },
  {
   "cell_type": "code",
   "execution_count": 0,
   "metadata": {
    "colab": {
     "base_uri": "https://localhost:8080/",
     "height": 35
    },
    "colab_type": "code",
    "id": "zAcL6jasAo_P",
    "outputId": "e427b154-ad0a-4389-ae96-24f4a6ca5fb9"
   },
   "outputs": [
    {
     "data": {
      "text/plain": [
       "(42000, 28, 28)"
      ]
     },
     "execution_count": 62,
     "metadata": {
      "tags": []
     },
     "output_type": "execute_result"
    }
   ],
   "source": [
    "X_train = np.array(X_train)\n",
    "X_train.shape"
   ]
  },
  {
   "cell_type": "code",
   "execution_count": 0,
   "metadata": {
    "colab": {},
    "colab_type": "code",
    "id": "gWAEOHAb5s2N"
   },
   "outputs": [],
   "source": [
    "X_train = np.reshape(X_train,(42000,28,28,1))"
   ]
  },
  {
   "cell_type": "code",
   "execution_count": 0,
   "metadata": {
    "colab": {},
    "colab_type": "code",
    "id": "KLTs_IfZ8DkG"
   },
   "outputs": [],
   "source": [
    "X_train = X_train.astype('float32')\n",
    "X_train /= 255"
   ]
  },
  {
   "cell_type": "code",
   "execution_count": 0,
   "metadata": {
    "colab": {},
    "colab_type": "code",
    "id": "irLw01gg-1WS"
   },
   "outputs": [],
   "source": [
    "Y_train = np.array(Y_train)"
   ]
  },
  {
   "cell_type": "code",
   "execution_count": 0,
   "metadata": {
    "colab": {
     "base_uri": "https://localhost:8080/",
     "height": 35
    },
    "colab_type": "code",
    "id": "qhnrHNHjASx3",
    "outputId": "06dee64d-7acf-41d9-e88c-7edad9d7571b"
   },
   "outputs": [
    {
     "name": "stdout",
     "output_type": "stream",
     "text": [
      "(42000, 10)\n"
     ]
    }
   ],
   "source": [
    "def encode(data):\n",
    "  encoded = to_categorical(data);\n",
    "  return encoded;\n",
    "\n",
    "Y_train = encode(Y_train)\n",
    "\n",
    "print(Y_train.shape)"
   ]
  },
  {
   "cell_type": "code",
   "execution_count": 0,
   "metadata": {
    "colab": {},
    "colab_type": "code",
    "id": "X5ETkfQS-9w9"
   },
   "outputs": [],
   "source": [
    "def Modulo(input_shape):\n",
    "  X_input = Input(input_shape)\n",
    "#   X = ZeroPadding2D((3,3))(X_input)\n",
    "  \n",
    "  X = Conv2D(32,(7,7),strides=(1,1), name='conv0')(X_input)\n",
    "#   X = BatchNormalization(axis=3, name='bn0')(X)\n",
    "  X = Activation('relu')(X)\n",
    "  X = MaxPooling2D((2,2), name='max_pool1')(X)\n",
    "  X = Conv2D(16,(5,5),strides=(1,1), name='conv1')(X)  \n",
    "  X = Flatten()(X)\n",
    "  X = Dense(10)(X)\n",
    "  X = Activation('softmax')(X)\n",
    "  model = Model(inputs=X_input, outputs=X, name='Modulo')\n",
    "  \n",
    "  return model"
   ]
  },
  {
   "cell_type": "code",
   "execution_count": 0,
   "metadata": {
    "colab": {
     "base_uri": "https://localhost:8080/",
     "height": 1835
    },
    "colab_type": "code",
    "id": "r7iO4J6crPNb",
    "outputId": "3dd7f8ad-9909-4970-e7e5-290b7e041ce2"
   },
   "outputs": [
    {
     "name": "stdout",
     "output_type": "stream",
     "text": [
      "Epoch 1/50\n",
      "42000/42000 [==============================] - 2s 42us/step - loss: 0.0264 - acc: 0.8201\n",
      "Epoch 2/50\n",
      "42000/42000 [==============================] - 1s 30us/step - loss: 0.0080 - acc: 0.9500\n",
      "Epoch 3/50\n",
      "42000/42000 [==============================] - 1s 30us/step - loss: 0.0049 - acc: 0.9690\n",
      "Epoch 4/50\n",
      "42000/42000 [==============================] - 1s 30us/step - loss: 0.0039 - acc: 0.9757\n",
      "Epoch 5/50\n",
      "42000/42000 [==============================] - 1s 29us/step - loss: 0.0033 - acc: 0.9796\n",
      "Epoch 6/50\n",
      "42000/42000 [==============================] - 1s 29us/step - loss: 0.0029 - acc: 0.9818\n",
      "Epoch 7/50\n",
      "42000/42000 [==============================] - 1s 29us/step - loss: 0.0027 - acc: 0.9833\n",
      "Epoch 8/50\n",
      "42000/42000 [==============================] - 1s 28us/step - loss: 0.0025 - acc: 0.9843\n",
      "Epoch 9/50\n",
      "42000/42000 [==============================] - 1s 28us/step - loss: 0.0023 - acc: 0.9855\n",
      "Epoch 10/50\n",
      "42000/42000 [==============================] - 1s 28us/step - loss: 0.0021 - acc: 0.9864\n",
      "Epoch 11/50\n",
      "42000/42000 [==============================] - 1s 28us/step - loss: 0.0020 - acc: 0.9871\n",
      "Epoch 12/50\n",
      "42000/42000 [==============================] - 1s 28us/step - loss: 0.0019 - acc: 0.9885\n",
      "Epoch 13/50\n",
      "42000/42000 [==============================] - 1s 28us/step - loss: 0.0017 - acc: 0.9895\n",
      "Epoch 14/50\n",
      "42000/42000 [==============================] - 1s 28us/step - loss: 0.0017 - acc: 0.9897\n",
      "Epoch 15/50\n",
      "42000/42000 [==============================] - 1s 28us/step - loss: 0.0017 - acc: 0.9897\n",
      "Epoch 16/50\n",
      "42000/42000 [==============================] - 1s 28us/step - loss: 0.0016 - acc: 0.9905\n",
      "Epoch 17/50\n",
      "42000/42000 [==============================] - 1s 28us/step - loss: 0.0015 - acc: 0.9912\n",
      "Epoch 18/50\n",
      "42000/42000 [==============================] - 1s 28us/step - loss: 0.0015 - acc: 0.9909\n",
      "Epoch 19/50\n",
      "42000/42000 [==============================] - 1s 28us/step - loss: 0.0014 - acc: 0.9910\n",
      "Epoch 20/50\n",
      "42000/42000 [==============================] - 1s 28us/step - loss: 0.0014 - acc: 0.9915\n",
      "Epoch 21/50\n",
      "42000/42000 [==============================] - 1s 28us/step - loss: 0.0013 - acc: 0.9926\n",
      "Epoch 22/50\n",
      "42000/42000 [==============================] - 1s 28us/step - loss: 0.0013 - acc: 0.9923\n",
      "Epoch 23/50\n",
      "42000/42000 [==============================] - 1s 28us/step - loss: 0.0012 - acc: 0.9933\n",
      "Epoch 24/50\n",
      "42000/42000 [==============================] - 1s 28us/step - loss: 0.0011 - acc: 0.9934\n",
      "Epoch 25/50\n",
      "42000/42000 [==============================] - 1s 28us/step - loss: 0.0011 - acc: 0.9937\n",
      "Epoch 26/50\n",
      "42000/42000 [==============================] - 1s 28us/step - loss: 0.0010 - acc: 0.9942\n",
      "Epoch 27/50\n",
      "42000/42000 [==============================] - 1s 28us/step - loss: 0.0011 - acc: 0.9939\n",
      "Epoch 28/50\n",
      "42000/42000 [==============================] - 1s 28us/step - loss: 0.0011 - acc: 0.9938\n",
      "Epoch 29/50\n",
      "42000/42000 [==============================] - 1s 28us/step - loss: 9.7560e-04 - acc: 0.9945\n",
      "Epoch 30/50\n",
      "42000/42000 [==============================] - 1s 28us/step - loss: 9.5487e-04 - acc: 0.9945\n",
      "Epoch 31/50\n",
      "42000/42000 [==============================] - 1s 28us/step - loss: 9.2921e-04 - acc: 0.9947\n",
      "Epoch 32/50\n",
      "42000/42000 [==============================] - 1s 28us/step - loss: 9.1410e-04 - acc: 0.9948\n",
      "Epoch 33/50\n",
      "42000/42000 [==============================] - 1s 28us/step - loss: 9.0788e-04 - acc: 0.9947\n",
      "Epoch 34/50\n",
      "42000/42000 [==============================] - 1s 28us/step - loss: 8.1034e-04 - acc: 0.9955\n",
      "Epoch 35/50\n",
      "42000/42000 [==============================] - 1s 28us/step - loss: 7.9190e-04 - acc: 0.9954\n",
      "Epoch 36/50\n",
      "42000/42000 [==============================] - 1s 28us/step - loss: 7.8547e-04 - acc: 0.9957\n",
      "Epoch 37/50\n",
      "42000/42000 [==============================] - 1s 28us/step - loss: 7.5786e-04 - acc: 0.9958\n",
      "Epoch 38/50\n",
      "42000/42000 [==============================] - 1s 28us/step - loss: 8.0661e-04 - acc: 0.9954\n",
      "Epoch 39/50\n",
      "42000/42000 [==============================] - 1s 28us/step - loss: 7.4411e-04 - acc: 0.9959\n",
      "Epoch 40/50\n",
      "42000/42000 [==============================] - 1s 28us/step - loss: 6.7152e-04 - acc: 0.9964\n",
      "Epoch 41/50\n",
      "42000/42000 [==============================] - 1s 28us/step - loss: 6.8597e-04 - acc: 0.9961\n",
      "Epoch 42/50\n",
      "42000/42000 [==============================] - 1s 28us/step - loss: 6.4166e-04 - acc: 0.9966\n",
      "Epoch 43/50\n",
      "42000/42000 [==============================] - 1s 28us/step - loss: 5.9713e-04 - acc: 0.9968\n",
      "Epoch 44/50\n",
      "42000/42000 [==============================] - 1s 28us/step - loss: 5.8477e-04 - acc: 0.9968\n",
      "Epoch 45/50\n",
      "42000/42000 [==============================] - 1s 28us/step - loss: 5.9146e-04 - acc: 0.9969\n",
      "Epoch 46/50\n",
      "42000/42000 [==============================] - 1s 28us/step - loss: 5.8467e-04 - acc: 0.9969\n",
      "Epoch 47/50\n",
      "42000/42000 [==============================] - 1s 28us/step - loss: 6.0485e-04 - acc: 0.9966\n",
      "Epoch 48/50\n",
      "42000/42000 [==============================] - 1s 28us/step - loss: 6.7366e-04 - acc: 0.9962\n",
      "Epoch 49/50\n",
      "42000/42000 [==============================] - 1s 28us/step - loss: 5.4923e-04 - acc: 0.9969\n",
      "Epoch 50/50\n",
      "42000/42000 [==============================] - 1s 28us/step - loss: 5.3403e-04 - acc: 0.9970\n"
     ]
    },
    {
     "data": {
      "text/plain": [
       "<keras.callbacks.History at 0x7f25a0153f60>"
      ]
     },
     "execution_count": 79,
     "metadata": {
      "tags": []
     },
     "output_type": "execute_result"
    }
   ],
   "source": [
    "h = Modulo((28,28,1))\n",
    "h.compile(optimizer = \"Adam\", loss = \"mean_squared_error\", metrics = [\"accuracy\"])\n",
    "h.fit(np.array(X_train), np.array(Y_train), epochs = 50, batch_size = 400, shuffle = True)"
   ]
  }
 ],
 "metadata": {
  "accelerator": "GPU",
  "colab": {
   "collapsed_sections": [],
   "name": "test.ipynb",
   "provenance": [],
   "version": "0.3.2"
  },
  "kernelspec": {
   "display_name": "Python 3",
   "name": "python3"
  }
 },
 "nbformat": 4,
 "nbformat_minor": 1
}
